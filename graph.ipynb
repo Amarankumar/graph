{
 "cells": [
  {
   "cell_type": "markdown",
   "metadata": {},
   "source": [
    "1.Breadth First Traversal for a Graph"
   ]
  },
  {
   "cell_type": "code",
   "execution_count": 1,
   "metadata": {},
   "outputs": [
    {
     "name": "stdout",
     "output_type": "stream",
     "text": [
      "Breadth-First Traversal (starting from node 0):\n",
      "0 1 2 3 "
     ]
    }
   ],
   "source": [
    "from collections import defaultdict\n",
    "\n",
    "class Graph:\n",
    "    def __init__(self):\n",
    "        self.graph = defaultdict(list)\n",
    "\n",
    "    def add_edge(self, u, v):\n",
    "        self.graph[u].append(v)\n",
    "        self.graph[v].append(u)  \n",
    "\n",
    "    def bfs(self, start_node):\n",
    "        visited = set()\n",
    "        queue = [start_node]\n",
    "\n",
    "        while queue:\n",
    "            current_node = queue.pop(0)\n",
    "            if current_node not in visited:\n",
    "                print(current_node, end=' ')\n",
    "                visited.add(current_node)\n",
    "                for neighbor in self.graph[current_node]:\n",
    "                    if neighbor not in visited:\n",
    "                        queue.append(neighbor)\n",
    "\n",
    "if __name__ == \"__main__\":\n",
    "    graph = Graph()\n",
    "    graph.add_edge(0, 1)\n",
    "    graph.add_edge(0, 2)\n",
    "    graph.add_edge(1, 2)\n",
    "    graph.add_edge(2, 3)\n",
    "    graph.add_edge(3, 3)\n",
    "\n",
    "    print(\"Breadth-First Traversal (starting from node 0):\")\n",
    "    graph.bfs(0)\n"
   ]
  },
  {
   "cell_type": "markdown",
   "metadata": {},
   "source": [
    "2.Depth First Traversal for a Graph"
   ]
  },
  {
   "cell_type": "code",
   "execution_count": 2,
   "metadata": {},
   "outputs": [
    {
     "name": "stdout",
     "output_type": "stream",
     "text": [
      "Depth-First Traversal (starting from node 0):\n",
      "0 2 3 1 "
     ]
    }
   ],
   "source": [
    "class Graph:\n",
    "    def __init__(self):\n",
    "        self.graph = {}\n",
    "\n",
    "    def add_edge(self, u, v):\n",
    "        if u not in self.graph:\n",
    "            self.graph[u] = []\n",
    "        if v not in self.graph:\n",
    "            self.graph[v] = []\n",
    "        self.graph[u].append(v)\n",
    "        self.graph[v].append(u)  \n",
    "    def dfs_recursive(self, node, visited):\n",
    "        visited.add(node)\n",
    "        print(node, end=' ')\n",
    "\n",
    "        for neighbor in self.graph[node]:\n",
    "            if neighbor not in visited:\n",
    "                self.dfs_recursive(neighbor, visited)\n",
    "\n",
    "    def dfs(self, start_node):\n",
    "        visited = set()\n",
    "        stack = [start_node]\n",
    "\n",
    "        while stack:\n",
    "            current_node = stack.pop()\n",
    "            if current_node not in visited:\n",
    "                print(current_node, end=' ')\n",
    "                visited.add(current_node)\n",
    "                for neighbor in self.graph[current_node]:\n",
    "                    if neighbor not in visited:\n",
    "                        stack.append(neighbor)\n",
    "\n",
    "if __name__ == \"__main__\":\n",
    "    graph = Graph()\n",
    "    graph.add_edge(0, 1)\n",
    "    graph.add_edge(0, 2)\n",
    "    graph.add_edge(1, 2)\n",
    "    graph.add_edge(2, 3)\n",
    "    graph.add_edge(3, 3)\n",
    "\n",
    "    print(\"Depth-First Traversal (starting from node 0):\")\n",
    "    graph.dfs(0)\n"
   ]
  },
  {
   "cell_type": "markdown",
   "metadata": {},
   "source": [
    "3.Count the number of nodes at given level in a tree using BFS"
   ]
  },
  {
   "cell_type": "code",
   "execution_count": 3,
   "metadata": {},
   "outputs": [
    {
     "name": "stdout",
     "output_type": "stream",
     "text": [
      "Number of nodes at level 2: 4\n"
     ]
    }
   ],
   "source": [
    "class TreeNode:\n",
    "    def __init__(self, value):\n",
    "        self.value = value\n",
    "        self.children = []\n",
    "\n",
    "def count_nodes_at_level(root, target_level):\n",
    "    if not root:\n",
    "        return 0\n",
    "\n",
    "    queue = [(root, 0)]  \n",
    "    count = 0\n",
    "\n",
    "    while queue:\n",
    "        node, level = queue.pop(0)\n",
    "\n",
    "        if level == target_level:\n",
    "            count += 1\n",
    "\n",
    "        for child in node.children:\n",
    "            queue.append((child, level + 1))\n",
    "\n",
    "    return count\n",
    "\n",
    "if __name__ == \"__main__\":\n",
    "\n",
    "    root = TreeNode(1)\n",
    "    root.children = [TreeNode(2), TreeNode(3)]\n",
    "    root.children[0].children = [TreeNode(4), TreeNode(5), TreeNode(6)]\n",
    "    root.children[1].children = [TreeNode(7)]\n",
    "\n",
    "    target_level = 2\n",
    "    result = count_nodes_at_level(root, target_level)\n",
    "    print(f\"Number of nodes at level {target_level}: {result}\")\n"
   ]
  },
  {
   "cell_type": "markdown",
   "metadata": {},
   "source": [
    "4.Count number of trees in a forest"
   ]
  },
  {
   "cell_type": "code",
   "execution_count": 4,
   "metadata": {},
   "outputs": [
    {
     "name": "stdout",
     "output_type": "stream",
     "text": [
      "Total number of trees in the forest: 3\n"
     ]
    }
   ],
   "source": [
    "def count_trees_in_forest(n, edges):\n",
    "    def dfs(node, visited, adjacency_list):\n",
    "        visited[node] = True\n",
    "        for neighbor in adjacency_list[node]:\n",
    "            if not visited[neighbor]:\n",
    "                dfs(neighbor, visited, adjacency_list)\n",
    "\n",
    "    adjacency_list = {i: [] for i in range(n)}\n",
    "    for u, v in edges:\n",
    "        adjacency_list[u].append(v)\n",
    "        adjacency_list[v].append(u)\n",
    "\n",
    "    visited = [False] * n\n",
    "    num_trees = 0\n",
    "\n",
    "    for node in range(n):\n",
    "        if not visited[node]:\n",
    "            num_trees += 1\n",
    "            dfs(node, visited, adjacency_list)\n",
    "\n",
    "    return num_trees\n",
    "\n",
    "if __name__ == \"__main__\":\n",
    "\n",
    "    n = 7\n",
    "    forest_edges = [(0, 1), (0, 2), (3, 4), (4, 5), (6, 6)]\n",
    "\n",
    "    total_trees = count_trees_in_forest(n, forest_edges)\n",
    "    print(\"Total number of trees in the forest:\", total_trees)\n"
   ]
  },
  {
   "cell_type": "markdown",
   "metadata": {},
   "source": [
    "5.Detect Cycle in a Directed Graph"
   ]
  },
  {
   "cell_type": "code",
   "execution_count": 5,
   "metadata": {},
   "outputs": [
    {
     "name": "stdout",
     "output_type": "stream",
     "text": [
      "Graph with cycle: True\n",
      "Graph without cycle: False\n"
     ]
    }
   ],
   "source": [
    "def has_cycle(graph):\n",
    "    def dfs(node, visited, stack):\n",
    "        visited[node] = \"GRAY\"  \n",
    "\n",
    "        for neighbor in graph[node]:\n",
    "            if visited[neighbor] == \"GRAY\":\n",
    "                return True  \n",
    "            if visited[neighbor] == \"WHITE\" and dfs(neighbor, visited, stack):\n",
    "                return True\n",
    "\n",
    "        visited[node] = \"BLACK\"  \n",
    "        stack.append(node)\n",
    "        return False\n",
    "\n",
    "    visited = {node: \"WHITE\" for node in graph.keys()}\n",
    "    stack = []\n",
    "\n",
    "    for node in graph:\n",
    "        if visited[node] == \"WHITE\":\n",
    "            if dfs(node, visited, stack):\n",
    "                return True\n",
    "\n",
    "    return False\n",
    "if __name__ == \"__main__\":\n",
    "\n",
    "    graph_with_cycle = {\n",
    "        0: [1],\n",
    "        1: [2],\n",
    "        2: [3, 4],\n",
    "        3: [1],\n",
    "        4: [5],\n",
    "        5: [2]\n",
    "    }\n",
    "    graph_without_cycle = {\n",
    "        0: [1, 2],\n",
    "        1: [2],\n",
    "        2: [3, 4],\n",
    "        3: [],\n",
    "        4: []\n",
    "    }\n",
    "\n",
    "    has_cycle_in_graph_with_cycle = has_cycle(graph_with_cycle)\n",
    "    has_cycle_in_graph_without_cycle = has_cycle(graph_without_cycle)\n",
    "\n",
    "    print(\"Graph with cycle:\", has_cycle_in_graph_with_cycle)  \n",
    "    print(\"Graph without cycle:\", has_cycle_in_graph_without_cycle)  \n"
   ]
  },
  {
   "cell_type": "markdown",
   "metadata": {},
   "source": [
    "miscellaneous question.\n",
    "**Implement n-Queen’s Problem"
   ]
  },
  {
   "cell_type": "code",
   "execution_count": 6,
   "metadata": {},
   "outputs": [
    {
     "name": "stdout",
     "output_type": "stream",
     "text": [
      "Solutions for 4-Queens Problem:\n",
      "Solution 1:\n",
      "..Q.\n",
      "Q...\n",
      "...Q\n",
      ".Q..\n",
      "\n",
      "Solution 2:\n",
      ".Q..\n",
      "...Q\n",
      "Q...\n",
      "..Q.\n",
      "\n"
     ]
    }
   ],
   "source": [
    "def is_safe(board, row, col, N):\n",
    "    # Check the row on the left side\n",
    "    for i in range(col):\n",
    "        if board[row][i] == 1:\n",
    "            return False\n",
    "\n",
    "    # Check upper diagonal on the left side\n",
    "    for i, j in zip(range(row, -1, -1), range(col, -1, -1)):\n",
    "        if board[i][j] == 1:\n",
    "            return False\n",
    "\n",
    "    # Check lower diagonal on the left side\n",
    "    for i, j in zip(range(row, N), range(col, -1, -1)):\n",
    "        if board[i][j] == 1:\n",
    "            return False\n",
    "\n",
    "    return True\n",
    "\n",
    "def solve_n_queens(N):\n",
    "    def backtrack(board, col):\n",
    "        if col == N:\n",
    "            solutions.append([\"\".join([\"Q\" if cell == 1 else \".\" for cell in row]) for row in board])\n",
    "            return\n",
    "\n",
    "        for i in range(N):\n",
    "            if is_safe(board, i, col, N):\n",
    "                board[i][col] = 1\n",
    "                backtrack(board, col + 1)\n",
    "                board[i][col] = 0  \n",
    "\n",
    "    board = [[0 for _ in range(N)] for _ in range(N)]\n",
    "    solutions = []\n",
    "\n",
    "    backtrack(board, 0)\n",
    "\n",
    "    return solutions\n",
    "if __name__ == \"__main__\":\n",
    "    N = 4 \n",
    "    solutions = solve_n_queens(N)\n",
    "    print(f\"Solutions for {N}-Queens Problem:\")\n",
    "    for i, solution in enumerate(solutions, start=1):\n",
    "        print(f\"Solution {i}:\")\n",
    "        for row in solution:\n",
    "            print(row)\n",
    "        print()\n"
   ]
  },
  {
   "cell_type": "code",
   "execution_count": null,
   "metadata": {},
   "outputs": [],
   "source": []
  },
  {
   "cell_type": "code",
   "execution_count": null,
   "metadata": {},
   "outputs": [],
   "source": []
  }
 ],
 "metadata": {
  "kernelspec": {
   "display_name": "Python 3",
   "language": "python",
   "name": "python3"
  },
  "language_info": {
   "codemirror_mode": {
    "name": "ipython",
    "version": 3
   },
   "file_extension": ".py",
   "mimetype": "text/x-python",
   "name": "python",
   "nbconvert_exporter": "python",
   "pygments_lexer": "ipython3",
   "version": "3.11.4"
  },
  "orig_nbformat": 4
 },
 "nbformat": 4,
 "nbformat_minor": 2
}
